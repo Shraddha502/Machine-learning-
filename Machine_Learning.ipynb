{
  "nbformat": 4,
  "nbformat_minor": 0,
  "metadata": {
    "colab": {
      "provenance": []
    },
    "kernelspec": {
      "name": "python3",
      "display_name": "Python 3"
    },
    "language_info": {
      "name": "python"
    }
  },
  "cells": [
    {
      "cell_type": "code",
      "execution_count": null,
      "metadata": {
        "id": "kSWoXaY2Wt47"
      },
      "outputs": [],
      "source": []
    },
    {
      "cell_type": "markdown",
      "source": [
        "Question 1: Explain the differences between AI, ML, Deep Learning (DL), and Data Science (DS).\n",
        "\n",
        "Artificial Intelligence (AI): A broad field focused on creating systems that can perform tasks typically requiring human intelligence, such as reasoning, problem-solving, and learning. It encompasses various techniques including machine learning and rule-based systems.\n",
        "\n",
        "Machine Learning (ML): A subset of AI that allows systems to learn from data and improve performance without being explicitly programmed. ML uses algorithms to identify patterns and make decisions.\n",
        "\n",
        "Deep Learning (DL): A specialized subset of ML that uses multi-layered neural networks (deep neural networks) to model complex patterns in large datasets. DL is especially effective in tasks like image and speech recognition.\n",
        "\n",
        "Data Science (DS): An interdisciplinary field combining statistics, scientific methods, and ML to extract insights and knowledge from data. Data science involves data collection, cleaning, analysis, and visualization.\n",
        "\n",
        "Question 2: What are the types of machine learning? Describe each with one real-world example.\n",
        "\n",
        "Supervised Learning: Learns from labeled data to make predictions or classifications.\n",
        "Example: Email spam detection — an algorithm learns to classify emails as spam or not based on a labeled dataset.\n",
        "\n",
        "Unsupervised Learning: Finds patterns or groupings in unlabeled data without predefined categories.\n",
        "Example: Customer segmentation — grouping customers based on purchasing behavior without prior labels.\n",
        "\n",
        "Reinforcement Learning: Learns by interacting with an environment, receiving rewards or penalties to optimize behavior.\n",
        "Example: Game-playing AI like AlphaGo learns strategies by playing many games and improving based on outcomes.\n",
        "\n",
        "Question 3: Define overfitting, underfitting, and the bias-variance tradeoff in machine learning.\n",
        "\n",
        "Overfitting: When a model learns the training data too well, including noise and outliers, resulting in excellent training performance but poor generalization to new data.\n",
        "\n",
        "Underfitting: When a model is too simple to capture the underlying data patterns, leading to poor performance both on training and testing data.\n",
        "\n",
        "Bias-Variance Tradeoff: The balance between bias (error due to simplistic assumptions made by the model) and variance (error due to sensitivity to small fluctuations in training data). Optimal models achieve a good balance to generalize well.\n",
        "\n",
        "Question 4: What are outliers in a dataset, and list three common techniques for handling them.\n",
        "\n",
        "Outliers: Data points that differ significantly from the majority of observations in a dataset. They can distort statistical analyses and model training.\n",
        "\n",
        "Common Techniques:\n",
        "\n",
        "Removal: Delete outliers if they are errors or not relevant.\n",
        "\n",
        "Transformation: Apply transformations like log or square root to reduce the effect of outliers.\n",
        "\n",
        "Imputation or Capping (Winsorizing): Replace outliers with boundary values or estimates.\n",
        "\n",
        "Question 5: Explain the process of handling missing values and mention one imputation technique for numerical and one for categorical data.\n",
        "Process:\n",
        "\n",
        "\n",
        "Identify missing data.\n",
        "\n",
        "Determine the extent and pattern of missingness.\n",
        "\n",
        "Decide whether to remove rows/columns or impute missing values.\n",
        "\n",
        "Imputation Techniques:\n",
        "\n",
        "Numerical: Mean imputation (replace missing values with average of the column).\n",
        "\n",
        "Categorical: Mode imputation (replace missing values with the most frequent category)."
      ],
      "metadata": {
        "id": "8n_NZaAvW0Ux"
      }
    },
    {
      "cell_type": "code",
      "source": [
        "#Question 6: Python program to create a synthetic imbalanced dataset and print class distribution.\n",
        "from sklearn.datasets import make_classification\n",
        "from collections import Counter\n",
        "\n",
        "X, y = make_classification(n_classes=2, class_sep=2, weights=[0.9, 0.1],\n",
        "                           n_informative=3, n_redundant=1, n_features=5,\n",
        "                           n_clusters_per_class=1, n_samples=1000, random_state=42)\n",
        "print('Class distribution:', Counter(y))"
      ],
      "metadata": {
        "colab": {
          "base_uri": "https://localhost:8080/"
        },
        "id": "VeyN2IkYXCgW",
        "outputId": "028d3d32-dc48-4186-fa31-a11df3da3e98"
      },
      "execution_count": 1,
      "outputs": [
        {
          "output_type": "stream",
          "name": "stdout",
          "text": [
            "Class distribution: Counter({np.int64(0): 897, np.int64(1): 103})\n"
          ]
        }
      ]
    },
    {
      "cell_type": "code",
      "source": [
        "#Question 7: One-hot encoding using pandas for the list of colors.\n",
        "\n",
        "import pandas as pd\n",
        "\n",
        "colors = ['Red', 'Green', 'Blue', 'Green', 'Red']\n",
        "df = pd.DataFrame({'Color': colors})\n",
        "one_hot_encoded = pd.get_dummies(df['Color'])\n",
        "print(one_hot_encoded)"
      ],
      "metadata": {
        "colab": {
          "base_uri": "https://localhost:8080/"
        },
        "id": "s8eSHga3XJDG",
        "outputId": "68f69c80-f83c-4dd2-dcde-21944a448e87"
      },
      "execution_count": 2,
      "outputs": [
        {
          "output_type": "stream",
          "name": "stdout",
          "text": [
            "    Blue  Green    Red\n",
            "0  False  False   True\n",
            "1  False   True  False\n",
            "2   True  False  False\n",
            "3  False   True  False\n",
            "4  False  False   True\n"
          ]
        }
      ]
    },
    {
      "cell_type": "code",
      "source": [
        "#Question 8: Generate normal data with missing values, impute, and plot histograms before and after.\n",
        "\n",
        "import numpy as np\n",
        "import matplotlib.pyplot as plt\n",
        "\n",
        "np.random.seed(42)\n",
        "data = np.random.normal(loc=50, scale=5, size=1000)\n",
        "\n",
        "# Introduce 50 random missing values\n",
        "missing_indices = np.random.choice(len(data), 50, replace=False)\n",
        "data_with_nan = data.copy()\n",
        "data_with_nan[missing_indices] = np.nan\n",
        "\n",
        "# Plot before imputation\n",
        "plt.hist(data_with_nan[~np.isnan(data_with_nan)], bins=30, alpha=0.7, label='Before Imputation')\n",
        "\n",
        "# Impute missing values with mean\n",
        "mean_value = np.nanmean(data_with_nan)\n",
        "data_with_nan[np.isnan(data_with_nan)] = mean_value\n",
        "\n",
        "# Plot after imputation\n",
        "plt.hist(data_with_nan, bins=30, alpha=0.7, label='After Imputation')\n",
        "plt.legend()\n",
        "plt.show()"
      ],
      "metadata": {
        "colab": {
          "base_uri": "https://localhost:8080/",
          "height": 430
        },
        "id": "H0SyaD4OXPqT",
        "outputId": "551d48ab-7248-411c-fb53-30fe6789a98a"
      },
      "execution_count": 3,
      "outputs": [
        {
          "output_type": "display_data",
          "data": {
            "text/plain": [
              "<Figure size 640x480 with 1 Axes>"
            ],
            "image/png": "[encoded data removed]"
          },
          "metadata": {}
        }
      ]
    },
    {
      "cell_type": "code",
      "source": [
        "#Question 9: Min-Max scaling on list.\n",
        "\n",
        "from sklearn.preprocessing import MinMaxScaler\n",
        "import numpy as np\n",
        "\n",
        "data = np.array([[2], [5], [10], [15], [20]])\n",
        "scaler = MinMaxScaler()\n",
        "scaled_data = scaler.fit_transform(data)\n",
        "print(scaled_data.flatten())"
      ],
      "metadata": {
        "colab": {
          "base_uri": "https://localhost:8080/"
        },
        "id": "lrcjZsb5XY0X",
        "outputId": "ebfb9394-2698-4dc5-d521-912d46ba5283"
      },
      "execution_count": 4,
      "outputs": [
        {
          "output_type": "stream",
          "name": "stdout",
          "text": [
            "[0.         0.16666667 0.44444444 0.72222222 1.        ]\n"
          ]
        }
      ]
    },
    {
      "cell_type": "code",
      "source": [],
      "metadata": {
        "id": "dPviBL1iXgG1"
      },
      "execution_count": null,
      "outputs": []
    },
    {
      "cell_type": "markdown",
      "source": [
        "Question 10: Step-by-step data preparation plan for retail customer transaction data.\n",
        "\n",
        "Handle Missing Data: Identify missing ages and decide on imputation (mean for numerical, mode for categorical) or removal if data is insufficient.\n",
        "\n",
        "Detect and Treat Outliers: Use IQR or Z-score methods to find outliers in transaction amounts and cap or transform them.\n",
        "\n",
        "Address Class Imbalance: Apply oversampling (like SMOTE) or undersampling to balance the fraud vs. non-fraud classes.\n",
        "\n",
        "Encode Categorical Variables: Use one-hot encoding for payment methods and other categoricals.\n",
        "\n",
        "Feature Scaling: Use Min-Max or Standard Scaler as needed for model compatibility.\n",
        "\n",
        "Data Splitting: Separate data into training and testing sets for model validation."
      ],
      "metadata": {
        "id": "J_T1tRMfXlR6"
      }
    }
  ]
}